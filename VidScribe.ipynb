{
 "cells": [
  {
   "cell_type": "code",
   "execution_count": 1,
   "id": "21085aa8",
   "metadata": {},
   "outputs": [
    {
     "name": "stdout",
     "output_type": "stream",
     "text": [
      "Requirement already satisfied: openai in /Users/raphael/anaconda3/lib/python3.10/site-packages (1.30.3)\r\n",
      "Requirement already satisfied: pydantic<3,>=1.9.0 in /Users/raphael/anaconda3/lib/python3.10/site-packages (from openai) (2.7.1)\r\n",
      "Requirement already satisfied: anyio<5,>=3.5.0 in /Users/raphael/anaconda3/lib/python3.10/site-packages (from openai) (3.5.0)\r\n",
      "Requirement already satisfied: typing-extensions<5,>=4.7 in /Users/raphael/anaconda3/lib/python3.10/site-packages (from openai) (4.11.0)\r\n",
      "Requirement already satisfied: sniffio in /Users/raphael/anaconda3/lib/python3.10/site-packages (from openai) (1.2.0)\r\n",
      "Requirement already satisfied: tqdm>4 in /Users/raphael/anaconda3/lib/python3.10/site-packages (from openai) (4.64.1)\r\n",
      "Requirement already satisfied: distro<2,>=1.7.0 in /Users/raphael/anaconda3/lib/python3.10/site-packages (from openai) (1.9.0)\r\n",
      "Requirement already satisfied: httpx<1,>=0.23.0 in /Users/raphael/anaconda3/lib/python3.10/site-packages (from openai) (0.27.0)\r\n",
      "Requirement already satisfied: idna>=2.8 in /Users/raphael/anaconda3/lib/python3.10/site-packages (from anyio<5,>=3.5.0->openai) (2.10)\r\n",
      "Requirement already satisfied: certifi in /Users/raphael/anaconda3/lib/python3.10/site-packages (from httpx<1,>=0.23.0->openai) (2023.7.22)\r\n",
      "Requirement already satisfied: httpcore==1.* in /Users/raphael/anaconda3/lib/python3.10/site-packages (from httpx<1,>=0.23.0->openai) (1.0.5)\r\n",
      "Requirement already satisfied: h11<0.15,>=0.13 in /Users/raphael/anaconda3/lib/python3.10/site-packages (from httpcore==1.*->httpx<1,>=0.23.0->openai) (0.14.0)\r\n",
      "Requirement already satisfied: annotated-types>=0.4.0 in /Users/raphael/anaconda3/lib/python3.10/site-packages (from pydantic<3,>=1.9.0->openai) (0.7.0)\r\n",
      "Requirement already satisfied: pydantic-core==2.18.2 in /Users/raphael/anaconda3/lib/python3.10/site-packages (from pydantic<3,>=1.9.0->openai) (2.18.2)\r\n"
     ]
    }
   ],
   "source": [
    "!pip install openai"
   ]
  },
  {
   "cell_type": "code",
   "execution_count": 2,
   "id": "8c3ff177",
   "metadata": {},
   "outputs": [
    {
     "name": "stdout",
     "output_type": "stream",
     "text": [
      "Requirement already satisfied: ffmpeg in /Users/raphael/anaconda3/lib/python3.10/site-packages (1.4)\r\n"
     ]
    }
   ],
   "source": [
    "!pip install ffmpeg"
   ]
  },
  {
   "cell_type": "code",
   "execution_count": 26,
   "id": "78047dcc",
   "metadata": {},
   "outputs": [
    {
     "name": "stdout",
     "output_type": "stream",
     "text": [
      "ffmpeg version 7.0 Copyright (c) 2000-2024 the FFmpeg developers\n",
      "  built with Apple clang version 15.0.0 (clang-1500.1.0.2.5)\n",
      "  configuration: --prefix=/opt/homebrew/Cellar/ffmpeg/7.0_1 --enable-shared --enable-pthreads --enable-version3 --cc=clang --host-cflags= --host-ldflags='-Wl,-ld_classic' --enable-ffplay --enable-gnutls --enable-gpl --enable-libaom --enable-libaribb24 --enable-libbluray --enable-libdav1d --enable-libharfbuzz --enable-libjxl --enable-libmp3lame --enable-libopus --enable-librav1e --enable-librist --enable-librubberband --enable-libsnappy --enable-libsrt --enable-libssh --enable-libsvtav1 --enable-libtesseract --enable-libtheora --enable-libvidstab --enable-libvmaf --enable-libvorbis --enable-libvpx --enable-libwebp --enable-libx264 --enable-libx265 --enable-libxml2 --enable-libxvid --enable-lzma --enable-libfontconfig --enable-libfreetype --enable-frei0r --enable-libass --enable-libopencore-amrnb --enable-libopencore-amrwb --enable-libopenjpeg --enable-libspeex --enable-libsoxr --enable-libzmq --enable-libzimg --disable-libjack --disable-indev=jack --enable-videotoolbox --enable-audiotoolbox --enable-neon\n",
      "  libavutil      59.  8.100 / 59.  8.100\n",
      "  libavcodec     61.  3.100 / 61.  3.100\n",
      "  libavformat    61.  1.100 / 61.  1.100\n",
      "  libavdevice    61.  1.100 / 61.  1.100\n",
      "  libavfilter    10.  1.100 / 10.  1.100\n",
      "  libswscale      8.  1.100 /  8.  1.100\n",
      "  libswresample   5.  1.100 /  5.  1.100\n",
      "  libpostproc    58.  1.100 / 58.  1.100\n",
      "Input #0, mov,mp4,m4a,3gp,3g2,mj2, from 'brainhack-workshop-3-recording.mp4':\n",
      "  Metadata:\n",
      "    major_brand     : isom\n",
      "    minor_version   : 512\n",
      "    compatible_brands: isomiso2avc1mp41\n",
      "    encoder         : Lavf59.27.100\n",
      "  Duration: 02:53:59.76, start: 0.000000, bitrate: 488 kb/s\n",
      "  Stream #0:0[0x1](und): Audio: aac (LC) (mp4a / 0x6134706D), 32000 Hz, mono, fltp, 126 kb/s (default)\n",
      "      Metadata:\n",
      "        handler_name    : SoundHandler\n",
      "        vendor_id       : [0][0][0][0]\n",
      "  Stream #0:1[0x2](und): Video: h264 (High) (avc1 / 0x31637661), yuv420p(tv, bt470bg/bt470bg/bt709, progressive), 1920x1080, 357 kb/s, 25 fps, 25 tbr, 30k tbn (default)\n",
      "      Metadata:\n",
      "        handler_name    : VideoHandler\n",
      "        vendor_id       : [0][0][0][0]\n",
      "Stream mapping:\n",
      "  Stream #0:0 -> #0:0 (aac (native) -> mp3 (libmp3lame))\n",
      "Press [q] to stop, [?] for help\n",
      "Output #0, mp3, to 'audio.mp3':\n",
      "  Metadata:\n",
      "    major_brand     : isom\n",
      "    minor_version   : 512\n",
      "    compatible_brands: isomiso2avc1mp41\n",
      "    TSSE            : Lavf61.1.100\n",
      "  Stream #0:0(und): Audio: mp3, 32000 Hz, mono, fltp (default)\n",
      "      Metadata:\n",
      "        handler_name    : SoundHandler\n",
      "        vendor_id       : [0][0][0][0]\n",
      "        encoder         : Lavc61.3.100 libmp3lame\n",
      "\u001b[1;35m[out#0/mp3 @ 0x600001d2c240] \u001b[0mvideo:0KiB audio:61170KiB subtitle:0KiB other streams:0KiB global headers:0KiB muxing overhead: 0.000522%\n",
      "size=   61171KiB time=02:53:59.71 bitrate=  48.0kbits/s speed= 308x    \n"
     ]
    }
   ],
   "source": [
    "video=\"brainhack-workshop-3-recording.mp4\"\n",
    "\n",
    "!ffmpeg -i brainhack-workshop-3-recording.mp4 audio.mp3"
   ]
  },
  {
   "cell_type": "code",
   "execution_count": 27,
   "id": "898e1b5c",
   "metadata": {},
   "outputs": [
    {
     "name": "stderr",
     "output_type": "stream",
     "text": [
      "/Users/raphael/anaconda3/lib/python3.10/site-packages/whisper/transcribe.py:115: UserWarning: FP16 is not supported on CPU; using FP32 instead\n",
      "  warnings.warn(\"FP16 is not supported on CPU; using FP32 instead\")\n"
     ]
    }
   ],
   "source": [
    "import whisper\n",
    "\n",
    "model = whisper.load_model(\"base\")\n",
    "result = model.transcribe(\"audio.mp3\", language=\"English\", word_timestamps=True)\n"
   ]
  },
  {
   "cell_type": "code",
   "execution_count": 29,
   "id": "05b96a2b",
   "metadata": {},
   "outputs": [
    {
     "name": "stdout",
     "output_type": "stream",
     "text": [
      " Let's get started with our final session of code EXP.\n",
      "1.84\n",
      "6.48\n"
     ]
    }
   ],
   "source": [
    "print(result['segments'][1][\"text\"])\n",
    "print(result['segments'][1][\"start\"])\n",
    "print(result['segments'][1][\"end\"])"
   ]
  }
 ],
 "metadata": {
  "kernelspec": {
   "display_name": "Python 3 (ipykernel)",
   "language": "python",
   "name": "python3"
  },
  "language_info": {
   "codemirror_mode": {
    "name": "ipython",
    "version": 3
   },
   "file_extension": ".py",
   "mimetype": "text/x-python",
   "name": "python",
   "nbconvert_exporter": "python",
   "pygments_lexer": "ipython3",
   "version": "3.10.9"
  }
 },
 "nbformat": 4,
 "nbformat_minor": 5
}
